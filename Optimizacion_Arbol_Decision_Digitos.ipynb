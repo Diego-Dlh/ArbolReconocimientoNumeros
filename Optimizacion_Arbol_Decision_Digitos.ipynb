{
 "cells": [
  {
   "cell_type": "markdown",
   "id": "b2f0e1ea",
   "metadata": {},
   "source": [
    "# Optimización de Árbol de Decisión para Reconocimiento de Dígitos\n",
    "Este notebook carga el dataset `datos_imagenes.csv`, realiza una muestra para reducir memoria, entrena un árbol de decisión con GridSearchCV y muestra los mejores parámetros y resultados.\n",
    "\n",
    "Se usan 784 características (píxeles 28x28) y la etiqueta de dígito."
   ]
  },
  {
   "cell_type": "code",
   "execution_count": 1,
   "id": "25cbb08a",
   "metadata": {},
   "outputs": [
    {
     "name": "stdout",
     "output_type": "stream",
     "text": [
      "Datos cargados: (21555, 785)\n",
      "Muestra tomada: (5000, 785)\n",
      "Entrenamiento: (4000, 784), Prueba: (1000, 784)\n",
      "Fitting 3 folds for each of 32 candidates, totalling 96 fits\n",
      "Mejores parámetros encontrados: {'criterion': 'entropy', 'max_depth': 10, 'max_features': None, 'min_samples_leaf': 1, 'min_samples_split': 2}\n",
      "Mejor precisión en validación (cv): 0.3640\n",
      "Precisión en conjunto de prueba: 0.3820\n"
     ]
    }
   ],
   "source": [
    "\n",
    "import pandas as pd\n",
    "from sklearn.model_selection import train_test_split, GridSearchCV\n",
    "from sklearn.tree import DecisionTreeClassifier\n",
    "from sklearn.metrics import accuracy_score\n",
    "\n",
    "# Cargar datos optimizados\n",
    "df = pd.read_csv('datos_imagenes.csv', dtype='uint8')\n",
    "print(\"Datos cargados:\", df.shape)\n",
    "\n",
    "# Tomar muestra para evitar problemas de memoria (por ejemplo 5000 muestras)\n",
    "df_sample = df.sample(n=5000, random_state=42)\n",
    "print(\"Muestra tomada:\", df_sample.shape)\n",
    "\n",
    "X = df_sample.drop('label', axis=1).values\n",
    "y = df_sample['label'].values\n",
    "\n",
    "# División estratificada en entrenamiento/prueba 80/20\n",
    "X_train, X_test, y_train, y_test = train_test_split(\n",
    "    X, y, test_size=0.2, stratify=y, random_state=42\n",
    ")\n",
    "\n",
    "print(f\"Entrenamiento: {X_train.shape}, Prueba: {X_test.shape}\")\n",
    "\n",
    "# Definir parámetros para GridSearch con menos combinaciones\n",
    "param_grid = {\n",
    "    'max_depth': [10, 15],\n",
    "    'min_samples_split': [2, 5],\n",
    "    'min_samples_leaf': [1, 5],\n",
    "    'criterion': ['gini', 'entropy'],\n",
    "    'max_features': [None, 'sqrt']\n",
    "}\n",
    "\n",
    "clf = DecisionTreeClassifier(random_state=42)\n",
    "\n",
    "grid_search = GridSearchCV(clf, param_grid, cv=3, scoring='accuracy', n_jobs=-1, verbose=2)\n",
    "grid_search.fit(X_train, y_train)\n",
    "\n",
    "print(\"Mejores parámetros encontrados:\", grid_search.best_params_)\n",
    "print(f\"Mejor precisión en validación (cv): {grid_search.best_score_:.4f}\")\n",
    "\n",
    "# Evaluar el mejor modelo en el conjunto de prueba\n",
    "best_model = grid_search.best_estimator_\n",
    "y_pred = best_model.predict(X_test)\n",
    "accuracy_test = accuracy_score(y_test, y_pred)\n",
    "print(f\"Precisión en conjunto de prueba: {accuracy_test:.4f}\")\n"
   ]
  }
 ],
 "metadata": {
  "kernelspec": {
   "display_name": "Python 3",
   "language": "python",
   "name": "python3"
  },
  "language_info": {
   "codemirror_mode": {
    "name": "ipython",
    "version": 3
   },
   "file_extension": ".py",
   "mimetype": "text/x-python",
   "name": "python",
   "nbconvert_exporter": "python",
   "pygments_lexer": "ipython3",
   "version": "3.13.0"
  }
 },
 "nbformat": 4,
 "nbformat_minor": 5
}
