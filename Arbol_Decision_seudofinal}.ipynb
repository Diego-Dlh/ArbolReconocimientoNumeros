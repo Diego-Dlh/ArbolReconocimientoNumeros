{
 "cells": [
  {
   "cell_type": "code",
   "execution_count": 1,
   "metadata": {},
   "outputs": [
    {
     "name": "stdout",
     "output_type": "stream",
     "text": [
      "Datos procesados y guardados. Total imágenes: 21555\n"
     ]
    }
   ],
   "source": [
    "import os\n",
    "import numpy as np\n",
    "from PIL import Image\n",
    "import pandas as pd\n",
    "\n",
    "image_size = (28, 28)\n",
    "data_dir = \"dataset/\"  # Cambia a la ruta donde tienes las carpetas de dígitos\n",
    "\n",
    "X = []\n",
    "y = []\n",
    "\n",
    "for label in os.listdir(data_dir):\n",
    "    label_path = os.path.join(data_dir, label)\n",
    "    if not os.path.isdir(label_path):\n",
    "        continue\n",
    "    \n",
    "    for filename in os.listdir(label_path):\n",
    "        if filename.endswith(\".png\") or filename.endswith(\".jpg\"):\n",
    "            img_path = os.path.join(label_path, filename)\n",
    "            img = Image.open(img_path).convert(\"L\")\n",
    "            img = img.resize(image_size)\n",
    "            img_array = np.array(img).flatten()\n",
    "            X.append(img_array)\n",
    "            y.append(int(label))\n",
    "\n",
    "X = np.array(X, dtype=np.uint8)\n",
    "y = np.array(y, dtype=np.uint8)\n",
    "\n",
    "# Guardar CSV optimizado\n",
    "df = pd.DataFrame(X)\n",
    "df[\"label\"] = y\n",
    "df.to_csv(\"datos_imagenes.csv\", index=False)\n",
    "print(f\"Datos procesados y guardados. Total imágenes: {len(X)}\")\n"
   ]
  },
  {
   "cell_type": "code",
   "execution_count": 2,
   "metadata": {},
   "outputs": [
    {
     "name": "stdout",
     "output_type": "stream",
     "text": [
      "Datos cargados desde CSV. Total imágenes: 21555\n"
     ]
    }
   ],
   "source": [
    "import pandas as pd\n",
    "\n",
    "df = pd.read_csv(\"datos_imagenes.csv\", dtype=\"uint8\")\n",
    "X = df.drop(\"label\", axis=1).values\n",
    "y = df[\"label\"].values\n",
    "print(f\"Datos cargados desde CSV. Total imágenes: {len(X)}\")\n"
   ]
  },
  {
   "cell_type": "code",
   "execution_count": 3,
   "metadata": {},
   "outputs": [
    {
     "data": {
      "image/png": "[encoded data removed]",
      "text/plain": [
       "<Figure size 640x480 with 1 Axes>"
      ]
     },
     "metadata": {},
     "output_type": "display_data"
    }
   ],
   "source": [
    "import matplotlib.pyplot as plt\n",
    "import random\n",
    "\n",
    "idx = random.randint(0, len(X)-1)\n",
    "image = X[idx].reshape(28, 28)\n",
    "label = y[idx]\n",
    "\n",
    "plt.imshow(image, cmap=\"gray\")\n",
    "plt.title(f\"Etiqueta: {label}\")\n",
    "plt.axis(\"off\")\n",
    "plt.show()\n"
   ]
  },
  {
   "cell_type": "code",
   "execution_count": 4,
   "metadata": {},
   "outputs": [
    {
     "name": "stdout",
     "output_type": "stream",
     "text": [
      "Entrenamiento: 12933 muestras\n",
      "Validación: 4311 muestras\n",
      "Prueba: 4311 muestras\n"
     ]
    }
   ],
   "source": [
    "from sklearn.model_selection import train_test_split\n",
    "\n",
    "# División 60% entrenamiento, 20% validación, 20% prueba, estratificada\n",
    "X_train_val, X_test, y_train_val, y_test = train_test_split(\n",
    "    X, y, test_size=0.2, stratify=y, random_state=42\n",
    ")\n",
    "X_train, X_val, y_train, y_val = train_test_split(\n",
    "    X_train_val, y_train_val, test_size=0.25, stratify=y_train_val, random_state=42\n",
    ")\n",
    "\n",
    "print(f\"Entrenamiento: {len(X_train)} muestras\")\n",
    "print(f\"Validación: {len(X_val)} muestras\")\n",
    "print(f\"Prueba: {len(X_test)} muestras\")\n"
   ]
  },
  {
   "cell_type": "code",
   "execution_count": 11,
   "metadata": {},
   "outputs": [
    {
     "name": "stdout",
     "output_type": "stream",
     "text": [
      "Fitting 3 folds for each of 1200 candidates, totalling 3600 fits\n",
      "Mejores parámetros encontrados: {'criterion': 'entropy', 'max_depth': 15, 'max_features': 0.5, 'min_samples_leaf': 1, 'min_samples_split': 10}\n",
      "Mejor precisión en validación cruzada: 0.4529\n"
     ]
    }
   ],
   "source": [
    "from sklearn.tree import DecisionTreeClassifier\n",
    "from sklearn.model_selection import GridSearchCV\n",
    "\n",
    "# Ampliar la búsqueda de hiperparámetros\n",
    "param_grid = {\n",
    "    \"max_depth\": [10, 15, 20, 25, 30, None],  # Añadir más valores, incluyendo sin límite (None)\n",
    "    \"min_samples_split\": [2, 5, 10, 20, 50],  # Más valores para probar\n",
    "    \"min_samples_leaf\": [1, 5, 10, 20],  # Más valores para probar\n",
    "    \"criterion\": [\"gini\", \"entropy\"],  # Los dos criterios clásicos para la división\n",
    "    \"max_features\": [None, \"sqrt\", \"log2\", 0.5, 0.75]  # Prueba con una fracción de las características\n",
    "}\n",
    "\n",
    "# Crear el clasificador de árbol de decisión\n",
    "clf = DecisionTreeClassifier(random_state=42)\n",
    "\n",
    "# Configurar GridSearchCV para buscar los mejores hiperparámetros\n",
    "grid_search = GridSearchCV(clf, param_grid, cv=3, scoring=\"accuracy\", n_jobs=-1, verbose=2)\n",
    "\n",
    "# Entrenar el modelo con GridSearchCV\n",
    "grid_search.fit(X_train, y_train)\n",
    "\n",
    "# Mostrar los mejores parámetros encontrados\n",
    "print(\"Mejores parámetros encontrados:\", grid_search.best_params_)\n",
    "print(f\"Mejor precisión en validación cruzada: {grid_search.best_score_:.4f}\")\n"
   ]
  },
  {
   "cell_type": "code",
   "execution_count": 14,
   "metadata": {},
   "outputs": [
    {
     "name": "stdout",
     "output_type": "stream",
     "text": [
      "Precisión en validación: 0.4737\n",
      "Reporte clasificación validación:\n",
      "              precision    recall  f1-score   support\n",
      "\n",
      "           0       0.63      0.68      0.65       447\n",
      "           1       0.57      0.69      0.62       448\n",
      "           2       0.45      0.46      0.46       447\n",
      "           3       0.44      0.47      0.45       440\n",
      "           4       0.43      0.44      0.43       436\n",
      "           5       0.39      0.38      0.39       425\n",
      "           6       0.49      0.49      0.49       424\n",
      "           7       0.48      0.45      0.47       423\n",
      "           8       0.37      0.32      0.34       417\n",
      "           9       0.40      0.33      0.36       404\n",
      "\n",
      "    accuracy                           0.47      4311\n",
      "   macro avg       0.47      0.47      0.47      4311\n",
      "weighted avg       0.47      0.47      0.47      4311\n",
      "\n",
      "Precisión en prueba: 0.4806\n",
      "Reporte clasificación prueba:\n",
      "              precision    recall  f1-score   support\n",
      "\n",
      "           0       0.57      0.62      0.59       447\n",
      "           1       0.55      0.69      0.61       448\n",
      "           2       0.50      0.45      0.47       447\n",
      "           3       0.44      0.43      0.44       441\n",
      "           4       0.46      0.46      0.46       436\n",
      "           5       0.42      0.46      0.44       425\n",
      "           6       0.50      0.53      0.51       424\n",
      "           7       0.51      0.46      0.49       423\n",
      "           8       0.37      0.33      0.35       417\n",
      "           9       0.42      0.34      0.38       403\n",
      "\n",
      "    accuracy                           0.48      4311\n",
      "   macro avg       0.48      0.48      0.48      4311\n",
      "weighted avg       0.48      0.48      0.48      4311\n",
      "\n"
     ]
    }
   ],
   "source": [
    "from sklearn.metrics import accuracy_score, classification_report\n",
    "\n",
    "best_model = grid_search.best_estimator_\n",
    "\n",
    "# Evaluar en validación\n",
    "y_val_pred = best_model.predict(X_val)\n",
    "val_acc = accuracy_score(y_val, y_val_pred)\n",
    "print(f\"Precisión en validación: {val_acc:.4f}\")\n",
    "print(\"Reporte clasificación validación:\")\n",
    "print(classification_report(y_val, y_val_pred))\n",
    "\n",
    "# Evaluar en prueba\n",
    "y_test_pred = best_model.predict(X_test)\n",
    "test_acc = accuracy_score(y_test, y_test_pred)\n",
    "print(f\"Precisión en prueba: {test_acc:.4f}\")\n",
    "print(\"Reporte clasificación prueba:\")\n",
    "print(classification_report(y_test, y_test_pred))\n"
   ]
  },
  {
   "cell_type": "code",
   "execution_count": 1,
   "metadata": {},
   "outputs": [
    {
     "ename": "NameError",
     "evalue": "name 'best_model' is not defined",
     "output_type": "error",
     "traceback": [
      "\u001b[31m---------------------------------------------------------------------------\u001b[39m",
      "\u001b[31mNameError\u001b[39m                                 Traceback (most recent call last)",
      "\u001b[36mCell\u001b[39m\u001b[36m \u001b[39m\u001b[32mIn[1]\u001b[39m\u001b[32m, line 12\u001b[39m\n\u001b[32m      9\u001b[39m     plt.show()\n\u001b[32m     11\u001b[39m \u001b[38;5;66;03m# Predicciones en conjunto prueba\u001b[39;00m\n\u001b[32m---> \u001b[39m\u001b[32m12\u001b[39m y_pred_test = \u001b[43mbest_model\u001b[49m.predict(X_test)\n\u001b[32m     14\u001b[39m \u001b[38;5;66;03m# Índices de aciertos y errores\u001b[39;00m\n\u001b[32m     15\u001b[39m indices_correctos = np.where(y_pred_test == y_test)[\u001b[32m0\u001b[39m]\n",
      "\u001b[31mNameError\u001b[39m: name 'best_model' is not defined"
     ]
    }
   ],
   "source": [
    "import matplotlib.pyplot as plt\n",
    "import numpy as np\n",
    "from PIL import Image\n",
    "\n",
    "def mostrar_imagen(img_array, titulo):\n",
    "    plt.imshow(img_array.reshape(28, 28), cmap='gray')\n",
    "    plt.title(titulo)\n",
    "    plt.axis('off')\n",
    "    plt.show()\n",
    "\n",
    "# Predicciones en conjunto prueba\n",
    "y_pred_test = best_model.predict(X_test)\n",
    "\n",
    "# Índices de aciertos y errores\n",
    "indices_correctos = np.where(y_pred_test == y_test)[0]\n",
    "indices_incorrectos = np.where(y_pred_test != y_test)[0]\n",
    "\n",
    "# Imagen correcta aleatoria\n",
    "idx_correcto = np.random.choice(indices_correctos)\n",
    "mostrar_imagen(X_test[idx_correcto], f\"Correcto - Etiqueta real: {y_test[idx_correcto]}\")\n",
    "\n",
    "# Imagen incorrecta aleatoria\n",
    "idx_incorrecto = np.random.choice(indices_incorrectos)\n",
    "mostrar_imagen(\n",
    "    X_test[idx_incorrecto],\n",
    "    f\"Incorrecto - Real: {y_test[idx_incorrecto]}, Predicho: {y_pred_test[idx_incorrecto]}\"\n",
    ")\n",
    "\n",
    "# Imagen personalizada (cambiar ruta)\n",
    "ruta_imagen_personal = \"numero2.png\"\n",
    "\n",
    "try:\n",
    "    img_personal = Image.open(ruta_imagen_personal).convert('L')\n",
    "    img_personal = img_personal.resize((28, 28))\n",
    "    img_personal_array = np.array(img_personal).flatten().reshape(1, -1)\n",
    "    prediccion_personal = best_model.predict(img_personal_array)[0]\n",
    "    mostrar_imagen(img_personal_array, f\"Imagen personalizada - Predicción: {prediccion_personal}\")\n",
    "except FileNotFoundError:\n",
    "    print(f\"No se encontró la imagen personalizada en la ruta: {ruta_imagen_personal}\")\n"
   ]
  }
 ],
 "metadata": {
  "anaconda-cloud": {},
  "kernelspec": {
   "display_name": "Python 3",
   "language": "python",
   "name": "python3"
  },
  "language_info": {
   "codemirror_mode": {
    "name": "ipython",
    "version": 3
   },
   "file_extension": ".py",
   "mimetype": "text/x-python",
   "name": "python",
   "nbconvert_exporter": "python",
   "pygments_lexer": "ipython3",
   "version": "3.13.0"
  }
 },
 "nbformat": 4,
 "nbformat_minor": 1
}
