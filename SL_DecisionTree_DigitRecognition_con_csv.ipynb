{
 "cells": [
  {
   "cell_type": "code",
   "execution_count": 7,
   "id": "030742f1",
   "metadata": {},
   "outputs": [
    {
     "name": "stdout",
     "output_type": "stream",
     "text": [
      "Datos guardados en datos_imagenes.csv\n"
     ]
    }
   ],
   "source": [
    "import os\n",
    "import numpy as np\n",
    "from PIL import Image\n",
    "import pandas as pd\n",
    "\n",
    "# Escaneo de imágenes desde carpetas y guardado en CSV\n",
    "X = []\n",
    "y = []\n",
    "image_size = (8, 8)\n",
    "data_dir = \"dataset/\"\n",
    "\n",
    "for label in os.listdir(data_dir):\n",
    "    label_path = os.path.join(data_dir, label)\n",
    "    if not os.path.isdir(label_path):\n",
    "        continue\n",
    "\n",
    "    for filename in os.listdir(label_path):\n",
    "        if filename.endswith(\".png\") or filename.endswith(\".jpg\"):\n",
    "            img_path = os.path.join(label_path, filename)\n",
    "            img = Image.open(img_path).convert(\"L\")\n",
    "            img = img.resize(image_size)\n",
    "            img_array = np.array(img).flatten()\n",
    "            X.append(img_array)\n",
    "            y.append(int(label))\n",
    "\n",
    "X = np.array(X)\n",
    "y = np.array(y)\n",
    "\n",
    "# Guardar como CSV\n",
    "df = pd.DataFrame(X)\n",
    "df[\"label\"] = y\n",
    "df.to_csv(\"datos_imagenes.csv\", index=False)\n",
    "print(\"Datos guardados en datos_imagenes.csv\")\n"
   ]
  },
  {
   "cell_type": "code",
   "execution_count": 8,
   "id": "27507f8d",
   "metadata": {},
   "outputs": [
    {
     "name": "stdout",
     "output_type": "stream",
     "text": [
      "Datos cargados desde datos_imagenes.csv\n"
     ]
    }
   ],
   "source": [
    "import pandas as pd\n",
    "\n",
    "# Cargar los datos desde el CSV guardado\n",
    "df = pd.read_csv(\"datos_imagenes.csv\")\n",
    "X = df.drop(\"label\", axis=1).values\n",
    "y = df[\"label\"].values\n",
    "print(\"Datos cargados desde datos_imagenes.csv\")\n"
   ]
  },
  {
   "cell_type": "code",
   "execution_count": 9,
   "id": "dd4dc9d5",
   "metadata": {},
   "outputs": [],
   "source": [
    "import os\n",
    "import numpy as np\n",
    "from PIL import Image\n",
    "\n",
    "# Cargar y procesar imágenes personalizadas\n",
    "X = []\n",
    "y = []\n",
    "image_size = (8, 8)\n",
    "data_dir = \"dataset/\"  # Asegúrate de que esta ruta sea correcta\n",
    "\n",
    "for label in os.listdir(data_dir):\n",
    "    label_path = os.path.join(data_dir, label)\n",
    "    if not os.path.isdir(label_path):\n",
    "        continue\n",
    "\n",
    "    for filename in os.listdir(label_path):\n",
    "        if filename.endswith(\".png\") or filename.endswith(\".jpg\"):\n",
    "            img_path = os.path.join(label_path, filename)\n",
    "            img = Image.open(img_path).convert(\"L\")\n",
    "            img = img.resize(image_size)\n",
    "            img_array = np.array(img).flatten()\n",
    "            X.append(img_array)\n",
    "            y.append(int(label))\n",
    "\n",
    "X = np.array(X)\n",
    "y = np.array(y)\n"
   ]
  },
  {
   "cell_type": "code",
   "execution_count": 10,
   "metadata": {
    "collapsed": false
   },
   "outputs": [
    {
     "name": "stdout",
     "output_type": "stream",
     "text": [
      "Done Classifying\n",
      "Verification: The accuracy of the prediction on Training dataset:\n",
      "86.51335409901253\n",
      "Validation: The accuracy of prediction on the Validation dataset formed.\n",
      "1.778258852636462\n",
      "Testing: The accuracy of prediction on the Testing dataset given:\n",
      "61.092039339395065\n"
     ]
    }
   ],
   "source": [
    "#### Assignment1\n",
    "#### This script includes the implementation of the Decision tree for the Digit Recognition.\n",
    "#### It takes the following libararies - CSV, Numpy, Sklearn and Math.\n",
    "### @Author: Chaitanya Sri Krishna Lolla, Student ID: 800960353\n",
    "\n",
    "## Libaries \n",
    "import csv\n",
    "import numpy as np\n",
    "from sklearn import tree\n",
    "import math\n",
    "from sklearn.metrics import accuracy_score\n",
    "\n",
    "## Form the Training Input data into the variable X.\n",
    "## Form the Training Target Value into the variable Y.\n",
    "X=[]\n",
    "Y=[]\n",
    "\n",
    "## Takes the Training CSV file using the CSV libarary and forms the training input and output data X.\n",
    "with open('datos_imagenes.csv') as trainingFile:\n",
    "    reader = csv.reader(trainingFile)\n",
    "    \n",
    "    for row in reader:\n",
    "        X.append(row[:64])\n",
    "        Y.append(row[64])\n",
    "\n",
    "## To perform some sort of pruning to avoid overfitting, the logic below splits the given training data into 70% Training data \n",
    "## 30% of Validation Dataset . \n",
    "## Then the classification is done on the 70% of the training data and validated in the Validation Dataset.\n",
    "percentage_training = 0.7\n",
    "length_TrainingSet = len(X)\n",
    "len_train = math.floor(length_TrainingSet * percentage_training);\n",
    "    \n",
    "X_train = X[:len_train]\n",
    "Y_train = Y[:len_train]\n",
    "    \n",
    "X_validation = X[len_train:len(X)]\n",
    "Y_validation = Y[len_train:len(X)]\n",
    "\n",
    "\n",
    "## Classfication on the above training dataset.\n",
    "clf = tree.DecisionTreeClassifier(max_depth= 11);\n",
    "clf = clf.fit(X_train, Y_train)\n",
    "print(\"Done Classifying\");\n",
    "\n",
    "## Checking the accuracy of training on the given training set to verify the classification.\n",
    "output_predicted_Training = clf.predict(X_train);\n",
    "\n",
    "accuracy = accuracy_score(Y_train, output_predicted_Training)\n",
    "print(\"Verification: The accuracy of the prediction on Training dataset:\")\n",
    "print(accuracy*100)\n",
    "\n",
    "\n",
    "## Checking the accuracy of classification on the validation set we have verified.\n",
    "output_predicted_validation = clf.predict(X_validation);\n",
    "\n",
    "accuracy_validation = accuracy_score(Y_validation, output_predicted_validation);\n",
    "print(\"Validation: The accuracy of prediction on the Validation dataset formed.\")\n",
    "print(accuracy_validation*100);\n",
    "\n",
    "\n",
    "### Formation of the given Test Dataset and verifying it using the above classifier trained.\n",
    "## Formation of Testing Data:\n",
    "\n",
    "X_test = []\n",
    "Y_test = []\n",
    "with open('datos_imagenes.csv') as testingFile:\n",
    "    testReader = csv.reader(testingFile)\n",
    "    \n",
    "    for row in testReader:\n",
    "        X_test.append(row[:64])\n",
    "        Y_test.append(row[64])\n",
    "        \n",
    "output_predicted_test = clf.predict(X_test);\n",
    "accuracy_test = accuracy_score(Y_test, output_predicted_test);\n",
    "print(\"Testing: The accuracy of prediction on the Testing dataset given:\")\n",
    "print(accuracy_test*100);\n"
   ]
  },
  {
   "cell_type": "code",
   "execution_count": null,
   "metadata": {
    "collapsed": true
   },
   "outputs": [],
   "source": []
  }
 ],
 "metadata": {
  "anaconda-cloud": {},
  "kernelspec": {
   "display_name": "Python 3",
   "language": "python",
   "name": "python3"
  },
  "language_info": {
   "codemirror_mode": {
    "name": "ipython",
    "version": 3
   },
   "file_extension": ".py",
   "mimetype": "text/x-python",
   "name": "python",
   "nbconvert_exporter": "python",
   "pygments_lexer": "ipython3",
   "version": "3.13.0"
  }
 },
 "nbformat": 4,
 "nbformat_minor": 1
}
