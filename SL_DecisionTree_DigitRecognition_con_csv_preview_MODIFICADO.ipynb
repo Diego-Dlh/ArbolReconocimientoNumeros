{
 "cells": [
  {
   "cell_type": "code",
   "execution_count": 1,
   "id": "409726c0",
   "metadata": {},
   "outputs": [
    {
     "name": "stdout",
     "output_type": "stream",
     "text": [
      "Datos guardados en datos_imagenes.csv\n"
     ]
    }
   ],
   "source": [
    "import os\n",
    "import numpy as np\n",
    "from PIL import Image\n",
    "import pandas as pd\n",
    "\n",
    "# Escaneo de imágenes desde carpetas y guardado en CSV\n",
    "X = []\n",
    "y = []\n",
    "image_size = (28, 28)  # Tamaño de la imagen (28x28 píxeles)\n",
    "data_dir = \"dataset/\"\n",
    "\n",
    "for label in os.listdir(data_dir):\n",
    "    label_path = os.path.join(data_dir, label)\n",
    "    if not os.path.isdir(label_path):\n",
    "        continue\n",
    "\n",
    "    for filename in os.listdir(label_path):\n",
    "        if filename.endswith(\".png\") or filename.endswith(\".jpg\"):\n",
    "            img_path = os.path.join(label_path, filename)\n",
    "            img = Image.open(img_path).convert(\"L\")\n",
    "            img = img.resize(image_size)\n",
    "            img_array = np.array(img).flatten()\n",
    "            X.append(img_array)\n",
    "            y.append(int(label))\n",
    "\n",
    "X = np.array(X)\n",
    "y = np.array(y)\n",
    "\n",
    "# Guardar como CSV\n",
    "df = pd.DataFrame(X)\n",
    "df[\"label\"] = y\n",
    "df.to_csv(\"datos_imagenes.csv\", index=False)\n",
    "print(\"Datos guardados en datos_imagenes.csv\")\n"
   ]
  },
  {
   "cell_type": "code",
   "execution_count": 2,
   "id": "db7bed8f",
   "metadata": {},
   "outputs": [
    {
     "name": "stdout",
     "output_type": "stream",
     "text": [
      "Datos cargados desde datos_imagenes.csv\n"
     ]
    }
   ],
   "source": [
    "import pandas as pd\n",
    "\n",
    "# Cargar los datos desde el CSV guardado\n",
    "df = pd.read_csv(\"datos_imagenes.csv\")\n",
    "X = df.drop(\"label\", axis=1).values\n",
    "y = df[\"label\"].values\n",
    "print(\"Datos cargados desde datos_imagenes.csv\")\n"
   ]
  },
  {
   "cell_type": "code",
   "execution_count": 13,
   "id": "583e801d",
   "metadata": {},
   "outputs": [
    {
     "data": {
      "image/png": "[encoded data removed]",
      "text/plain": [
       "<Figure size 640x480 with 1 Axes>"
      ]
     },
     "metadata": {},
     "output_type": "display_data"
    }
   ],
   "source": [
    "import matplotlib.pyplot as plt\n",
    "import random\n",
    "\n",
    "# Seleccionar índice aleatorio\n",
    "idx = random.randint(0, len(X) - 1)\n",
    "image = X[idx].reshape(28, 28)\n",
    "label = y[idx]\n",
    "\n",
    "# Mostrar la imagen\n",
    "plt.imshow(image, cmap='gray')\n",
    "plt.title(f\"Etiqueta: {label}\")\n",
    "plt.axis('off')\n",
    "plt.show()\n"
   ]
  },
  {
   "cell_type": "code",
   "execution_count": 5,
   "id": "dd4dc9d5",
   "metadata": {},
   "outputs": [],
   "source": [
    "import os\n",
    "import numpy as np\n",
    "from PIL import Image\n",
    "\n",
    "# Cargar y procesar imágenes personalizadas\n",
    "X = []\n",
    "y = []\n",
    "image_size = (28, 28)\n",
    "data_dir = \"dataset/\"  # Asegúrate de que esta ruta sea correcta\n",
    "\n",
    "for label in os.listdir(data_dir):\n",
    "    label_path = os.path.join(data_dir, label)\n",
    "    if not os.path.isdir(label_path):\n",
    "        continue\n",
    "\n",
    "    for filename in os.listdir(label_path):\n",
    "        if filename.endswith(\".png\") or filename.endswith(\".jpg\"):\n",
    "            img_path = os.path.join(label_path, filename)\n",
    "            img = Image.open(img_path).convert(\"L\")\n",
    "            img = img.resize(image_size)\n",
    "            img_array = np.array(img).flatten()\n",
    "            X.append(img_array)\n",
    "            y.append(int(label))\n",
    "\n",
    "X = np.array(X)\n",
    "y = np.array(y)\n"
   ]
  },
  {
   "cell_type": "code",
   "execution_count": 6,
   "metadata": {
    "collapsed": false
   },
   "outputs": [
    {
     "name": "stdout",
     "output_type": "stream",
     "text": [
      "Done Classifying\n",
      "Verificación: La precisión de la predicción en el conjunto de datos de entrenamiento:\n",
      "94.08178143018092\n",
      "Validación: La precisión de la predicción en el conjunto de datos de validación formado.\n",
      "79.77423844131746\n",
      "Prueba: La precisión de la predicción en el conjunto de datos de prueba proporcionado:\n",
      "89.78938578586009\n"
     ]
    }
   ],
   "source": [
    "#### Tarea1\n",
    "#### Este script incluye la implementación del árbol de decisión para el reconocimiento de dígitos.\n",
    "#### Utiliza las siguientes bibliotecas: CSV, Numpy, Sklearn y Math.\n",
    "### @Autor: Chaitanya Sri Krishna Lolla, ID de Estudiante: 800960353\n",
    "\n",
    "## Libaries \n",
    "import csv\n",
    "import numpy as np\n",
    "from sklearn import tree\n",
    "import math\n",
    "from sklearn.metrics import accuracy_score\n",
    "\n",
    "## Forma los datos de entrada de entrenamiento en la variable X.\n",
    "## Forma el valor objetivo de entrenamiento en la variable Y.\n",
    "X=[]\n",
    "Y=[]\n",
    "\n",
    "## Toma el archivo CSV de entrenamiento usando la biblioteca CSV y forma los datos de entrada y salida de entrenamiento X.\n",
    "with open('datos_imagenes.csv') as trainingFile:\n",
    "    reader = csv.reader(trainingFile)\n",
    "    \n",
    "    for row in reader:\n",
    "        X.append(row[:64])\n",
    "        Y.append(row[64])\n",
    "\n",
    "## Para realizar algún tipo de pruning y evitar el overfitting, la lógica a continuación divide los datos de entrenamiento dados en 70% de datos de entrenamiento \n",
    "## 30% de Validation Dataset. \n",
    "## Luego la clasificación se realiza sobre el 70% de los datos de entrenamiento y se valida en el Validation Dataset.\n",
    "\n",
    "\n",
    "percentage_training = 0.7\n",
    "length_TrainingSet = len(X)\n",
    "len_train = math.floor(length_TrainingSet * percentage_training);\n",
    "    \n",
    "X_train = X[:len_train]\n",
    "Y_train = Y[:len_train]\n",
    "    \n",
    "X_validation = X[len_train:len(X)]\n",
    "Y_validation = Y[len_train:len(X)]\n",
    "\n",
    "\n",
    "## Clasificación en el conjunto de datos de entrenamiento anterior.\n",
    "clf = tree.DecisionTreeClassifier(max_depth= 11);\n",
    "clf = clf.fit(X_train, Y_train)\n",
    "print(\"Done Classifying\");\n",
    "\n",
    "## Checking the accuracy of training on the given training set to verify the classification.\n",
    "output_predicted_Training = clf.predict(X_train);\n",
    "\n",
    "accuracy = accuracy_score(Y_train, output_predicted_Training)\n",
    "print(\"Verificación: La precisión de la predicción en el conjunto de datos de entrenamiento:\")\n",
    "print(accuracy*100)\n",
    "\n",
    "\n",
    "## Comprobando la precisión del entrenamiento en el conjunto de entrenamiento dado para verificar la clasificación.\n",
    "output_predicted_validation = clf.predict(X_validation);\n",
    "\n",
    "accuracy_validation = accuracy_score(Y_validation, output_predicted_validation);\n",
    "print(\"Validación: La precisión de la predicción en el conjunto de datos de validación formado.\")\n",
    "print(accuracy_validation*100);\n",
    "\n",
    "\n",
    "### Formation of the given Test Dataset and verifying it using the above classifier trained.\n",
    "## Formation of Testing Data:\n",
    "\n",
    "X_test = []\n",
    "Y_test = []\n",
    "with open('datos_imagenes.csv') as testingFile:\n",
    "    testReader = csv.reader(testingFile)\n",
    "    \n",
    "    for row in testReader:\n",
    "        X_test.append(row[:64])\n",
    "        Y_test.append(row[64])\n",
    "        \n",
    "output_predicted_test = clf.predict(X_test);\n",
    "accuracy_test = accuracy_score(Y_test, output_predicted_test);\n",
    "print(\"Prueba: La precisión de la predicción en el conjunto de datos de prueba proporcionado:\")\n",
    "print(accuracy_test*100);\n"
   ]
  },
  {
   "cell_type": "code",
   "execution_count": null,
   "metadata": {},
   "outputs": [
    {
     "name": "stdout",
     "output_type": "stream",
     "text": [
      "Datos guardados en datos_imagenes.csv\n"
     ]
    }
   ],
   "source": []
  },
  {
   "cell_type": "code",
   "execution_count": null,
   "metadata": {
    "collapsed": true
   },
   "outputs": [],
   "source": []
  },
  {
   "cell_type": "code",
   "execution_count": 7,
   "id": "22e87fa1",
   "metadata": {},
   "outputs": [
    {
     "name": "stdout",
     "output_type": "stream",
     "text": [
      "Total de imágenes procesadas: 21555\n",
      "Entrenamiento: 12933\n",
      "Validación: 4311\n",
      "Prueba: 4311\n"
     ]
    }
   ],
   "source": [
    "\n",
    "# División 60/20/20 y contador de imágenes desde el CSV generado\n",
    "\n",
    "import pandas as pd\n",
    "from sklearn.model_selection import train_test_split\n",
    "\n",
    "# Cargar datos desde el CSV generado previamente\n",
    "df = pd.read_csv(\"datos_imagenes.csv\")\n",
    "X = df.drop(\"label\", axis=1).values\n",
    "y = df[\"label\"].values\n",
    "\n",
    "# Contar total de imágenes procesadas\n",
    "print(\"Total de imágenes procesadas:\", len(X))\n",
    "\n",
    "# División de datos\n",
    "X_train_val, X_test, y_train_val, y_test = train_test_split(X, y, test_size=0.2, stratify=y, random_state=42)\n",
    "X_train, X_val, y_train, y_val = train_test_split(X_train_val, y_train_val, test_size=0.25, stratify=y_train_val, random_state=42)\n",
    "\n",
    "print(f\"Entrenamiento: {len(X_train)}\")\n",
    "print(f\"Validación: {len(X_val)}\")\n",
    "print(f\"Prueba: {len(X_test)}\")\n"
   ]
  }
 ],
 "metadata": {
  "anaconda-cloud": {},
  "kernelspec": {
   "display_name": "Python 3",
   "language": "python",
   "name": "python3"
  },
  "language_info": {
   "codemirror_mode": {
    "name": "ipython",
    "version": 3
   },
   "file_extension": ".py",
   "mimetype": "text/x-python",
   "name": "python",
   "nbconvert_exporter": "python",
   "pygments_lexer": "ipython3",
   "version": "3.13.0"
  }
 },
 "nbformat": 4,
 "nbformat_minor": 1
}
