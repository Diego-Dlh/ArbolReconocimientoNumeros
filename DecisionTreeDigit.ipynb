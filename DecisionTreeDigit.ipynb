{
 "cells": [
  {
   "cell_type": "markdown",
   "id": "02d45f16",
   "metadata": {},
   "source": [
    "\n",
    "# Reconocimiento de Dígitos usando Árboles de Decisión\n",
    "\n",
    "Este notebook tiene como objetivo desarrollar un modelo de clasificación para reconocer dígitos escritos a mano (del 0 al 9) utilizando árboles de decisión.\n",
    "\n",
    "## Descripción del Problema\n",
    "\n",
    "El problema es una **clasificación multiclase**: dado un conjunto de imágenes en escala de grises de tamaño 28x28 píxeles, el objetivo es predecir qué dígito representa la imagen (entre 0 y 9).\n",
    "\n",
    "El conjunto de datos está organizado en carpetas con nombres del 0 al 9, donde cada carpeta contiene imágenes correspondientes a ese dígito. Las imágenes han sido preprocesadas para convertirlas en vectores de 784 características (uno por cada píxel).\n",
    "\n",
    "La variable `label` indica la clase de cada imagen, y las variables predictoras son los valores de los píxeles.\n",
    "\n"
   ]
  },
  {
   "cell_type": "markdown",
   "id": "3b2e1e3e",
   "metadata": {},
   "source": [
    "\n",
    "## Inspección de los Datos\n",
    "\n",
    "A continuación se realiza una inspección básica del conjunto de datos.\n",
    "\n",
    "- Se visualizan imágenes de ejemplo.\n",
    "- Se presenta la distribución de clases (número de imágenes por dígito).\n"
   ]
  },
  {
   "cell_type": "code",
   "execution_count": 1,
   "id": "409726c0",
   "metadata": {},
   "outputs": [
    {
     "name": "stdout",
     "output_type": "stream",
     "text": [
      "Datos guardados en datos_imagenes.csv\n"
     ]
    }
   ],
   "source": [
    "#Modulo 1\n",
    "import os\n",
    "import numpy as np\n",
    "from PIL import Image\n",
    "import pandas as pd\n",
    "\n",
    "# Escaneo de imágenes desde carpetas y guardado en CSV\n",
    "X = []\n",
    "y = []\n",
    "image_size = (28, 28)  # Tamaño de la imagen (28x28 píxeles)\n",
    "data_dir = \"dataset/\"\n",
    "\n",
    "for label in os.listdir(data_dir):\n",
    "    label_path = os.path.join(data_dir, label)\n",
    "    if not os.path.isdir(label_path):\n",
    "        continue\n",
    "\n",
    "    for filename in os.listdir(label_path):\n",
    "        if filename.endswith(\".png\") or filename.endswith(\".jpg\"):\n",
    "            img_path = os.path.join(label_path, filename)\n",
    "            img = Image.open(img_path).convert(\"L\")\n",
    "            img = img.resize(image_size)\n",
    "            img_array = np.array(img).flatten()\n",
    "            X.append(img_array)\n",
    "            y.append(int(label))\n",
    "\n",
    "X = np.array(X)\n",
    "y = np.array(y)\n",
    "\n",
    "# Guardar como CSV\n",
    "df = pd.DataFrame(X)\n",
    "df[\"label\"] = y\n",
    "df.to_csv(\"datos_imagenes.csv\", index=False)\n",
    "print(\"Datos guardados en datos_imagenes.csv\")\n"
   ]
  },
  {
   "cell_type": "markdown",
   "id": "468d41c3",
   "metadata": {},
   "source": [
    "\n",
    "## Preprocesamiento\n",
    "\n",
    "Se aplicaron las siguientes transformaciones al conjunto de datos original:\n",
    "\n",
    "- Conversión de imágenes a escala de grises.\n",
    "- Redimensionamiento a 28x28 píxeles.\n",
    "- Aplanamiento de las imágenes a vectores de 784 características.\n",
    "- Generación de un archivo CSV para facilitar la carga.\n",
    "- División del conjunto en entrenamiento (60%), validación (20%) y prueba (20%).\n",
    "\n",
    "No se detectaron valores faltantes ni variables categóricas adicionales.\n"
   ]
  },
  {
   "cell_type": "code",
   "execution_count": 1,
   "id": "db7bed8f",
   "metadata": {},
   "outputs": [
    {
     "name": "stdout",
     "output_type": "stream",
     "text": [
      "Datos cargados desde datos_imagenes.csv\n"
     ]
    }
   ],
   "source": [
    "#Modulo 2\n",
    "import pandas as pd\n",
    "\n",
    "# Cargar los datos desde el CSV guardado\n",
    "df = pd.read_csv(\"datos_imagenes.csv\")\n",
    "X = df.drop(\"label\", axis=1).values\n",
    "y = df[\"label\"].values\n",
    "print(\"Datos cargados desde datos_imagenes.csv\")\n"
   ]
  },
  {
   "cell_type": "code",
   "execution_count": 2,
   "id": "583e801d",
   "metadata": {},
   "outputs": [
    {
     "data": {
      "image/png": "[encoded data removed]",
      "text/plain": [
       "<Figure size 640x480 with 1 Axes>"
      ]
     },
     "metadata": {},
     "output_type": "display_data"
    }
   ],
   "source": [
    "#Modulo 3\n",
    "import matplotlib.pyplot as plt\n",
    "import random\n",
    "\n",
    "# Seleccionar índice aleatorio\n",
    "idx = random.randint(0, len(X) - 1)\n",
    "image = X[idx].reshape(28, 28)\n",
    "label = y[idx]\n",
    "\n",
    "# Mostrar la imagen\n",
    "plt.imshow(image, cmap='gray')\n",
    "plt.title(f\"Etiqueta: {label}\")\n",
    "plt.axis('off')\n",
    "plt.show()\n"
   ]
  },
  {
   "cell_type": "code",
   "execution_count": 3,
   "id": "dd4dc9d5",
   "metadata": {},
   "outputs": [],
   "source": [
    "#Modulo 4\n",
    "import os\n",
    "import numpy as np\n",
    "from PIL import Image\n",
    "\n",
    "# Cargar y procesar imágenes personalizadas\n",
    "X = []\n",
    "y = []\n",
    "image_size = (28, 28)\n",
    "data_dir = \"dataset/\"  # Asegúrate de que esta ruta sea correcta\n",
    "\n",
    "for label in os.listdir(data_dir):\n",
    "    label_path = os.path.join(data_dir, label)\n",
    "    if not os.path.isdir(label_path):\n",
    "        continue\n",
    "\n",
    "    for filename in os.listdir(label_path):\n",
    "        if filename.endswith(\".png\") or filename.endswith(\".jpg\"):\n",
    "            img_path = os.path.join(label_path, filename)\n",
    "            img = Image.open(img_path).convert(\"L\")\n",
    "            img = img.resize(image_size)\n",
    "            img_array = np.array(img).flatten()\n",
    "            X.append(img_array)\n",
    "            y.append(int(label))\n",
    "\n",
    "X = np.array(X)\n",
    "y = np.array(y)\n"
   ]
  },
  {
   "cell_type": "markdown",
   "id": "95b1c199",
   "metadata": {},
   "source": [
    "\n",
    "## Ajuste de Parámetros y Validación Cruzada\n",
    "\n",
    "A continuación se entrena un modelo de Árbol de Decisión y se ajustan sus hiperparámetros usando `GridSearchCV` para encontrar la mejor combinación basada en validación cruzada.\n",
    "\n",
    "Esto permite obtener un mejor rendimiento y reducir el sobreajuste.\n"
   ]
  },
  {
   "cell_type": "code",
   "execution_count": null,
   "metadata": {
    "collapsed": false
   },
   "outputs": [
    {
     "name": "stdout",
     "output_type": "stream",
     "text": [
      "Done Classifying\n",
      "Verificación: La precisión de la predicción en el conjunto de datos de entrenamiento:\n",
      "82.58996620054344\n",
      "Validación: La precisión de la predicción en el conjunto de datos de validación formado.\n",
      "1.70094325034792\n",
      "Prueba: La precisión de la predicción en el conjunto de datos de prueba proporcionado:\n",
      "58.32250881425125\n"
     ]
    }
   ],
   "source": [
    "#### modulo 5\n",
    "#### Este script incluye la implementación del árbol de decisión para el reconocimiento de dígitos.\n",
    "#### Utiliza las siguientes bibliotecas: CSV, Numpy, Sklearn y Math.\n",
    "### @Autor: Chaitanya Sri Krishna Lolla, ID de Estudiante: 800960353\n",
    "\n",
    "## Libaries \n",
    "import csv\n",
    "import numpy as np\n",
    "from sklearn import tree\n",
    "import math\n",
    "from sklearn.metrics import accuracy_score\n",
    "\n",
    "## Forma los datos de entrada de entrenamiento en la variable X.\n",
    "## Forma el valor objetivo de entrenamiento en la variable Y.\n",
    "X=[]\n",
    "Y=[]\n",
    "\n",
    "## Toma el archivo CSV de entrenamiento usando la biblioteca CSV y forma los datos de entrada y salida de entrenamiento X.\n",
    "with open('datos_imagenes.csv') as trainingFile:\n",
    "    reader = csv.reader(trainingFile)\n",
    "    \n",
    "    for row in reader:\n",
    "        X.append(row[:784])\n",
    "        Y.append(row[784])\n",
    "\n",
    "## Para realizar algún tipo de pruning y evitar el overfitting, la lógica a continuación divide los datos de entrenamiento dados en 70% de datos de entrenamiento \n",
    "## 30% de Validation Dataset. \n",
    "## Luego la clasificación se realiza sobre el 70% de los datos de entrenamiento y se valida en el Validation Dataset.\n",
    "\n",
    "\n",
    "percentage_training = 0.7\n",
    "length_TrainingSet = len(X)\n",
    "len_train = math.floor(length_TrainingSet * percentage_training);\n",
    "    \n",
    "X_train = X[:len_train]\n",
    "Y_train = Y[:len_train]\n",
    "    \n",
    "X_validation = X[len_train:len(X)]\n",
    "Y_validation = Y[len_train:len(X)]\n",
    "\n",
    "\n",
    "## Clasificación en el conjunto de datos de entrenamiento anterior.\n",
    "clf = tree.DecisionTreeClassifier(max_depth= 11);\n",
    "clf = clf.fit(X_train, Y_train)\n",
    "print(\"Done Classifying\");\n",
    "\n",
    "## Checking the accuracy of training on the given training set to verify the classification.\n",
    "output_predicted_Training = clf.predict(X_train);\n",
    "\n",
    "accuracy = accuracy_score(Y_train, output_predicted_Training)\n",
    "print(\"Verificación: La precisión de la predicción en el conjunto de datos de entrenamiento:\")\n",
    "print(accuracy*100)\n",
    "\n",
    "\n",
    "## Comprobando la precisión del entrenamiento en el conjunto de entrenamiento dado para verificar la clasificación.\n",
    "output_predicted_validation = clf.predict(X_validation);\n",
    "\n",
    "accuracy_validation = accuracy_score(Y_validation, output_predicted_validation);\n",
    "print(\"Validación: La precisión de la predicción en el conjunto de datos de validación formado.\")\n",
    "print(accuracy_validation*100);\n",
    "\n",
    "\n",
    "### Formation of the given Test Dataset and verifying it using the above classifier trained.\n",
    "## Formation of Testing Data:\n",
    "\n",
    "X_test = []\n",
    "Y_test = []\n",
    "with open('datos_imagenes.csv') as testingFile:\n",
    "    testReader = csv.reader(testingFile)\n",
    "    \n",
    "    for row in testReader:\n",
    "        X_test.append(row[:784])\n",
    "        Y_test.append(row[784])\n",
    "        \n",
    "output_predicted_test = clf.predict(X_test);\n",
    "accuracy_test = accuracy_score(Y_test, output_predicted_test);\n",
    "print(\"Prueba: La precisión de la predicción en el conjunto de datos de prueba proporcionado:\")\n",
    "print(accuracy_test*100);\n"
   ]
  },
  {
   "cell_type": "code",
   "execution_count": 13,
   "id": "22e87fa1",
   "metadata": {},
   "outputs": [
    {
     "name": "stdout",
     "output_type": "stream",
     "text": [
      "Total de imágenes procesadas: 21555\n",
      "Entrenamiento: 12933\n",
      "Validación: 4311\n",
      "Prueba: 4311\n"
     ]
    }
   ],
   "source": [
    "\n",
    "# Modulo 6\n",
    "# División 60/20/20 y contador de imágenes desde el CSV generado\n",
    "\n",
    "import pandas as pd\n",
    "from sklearn.model_selection import train_test_split\n",
    "\n",
    "# Cargar datos desde el CSV generado previamente\n",
    "df = pd.read_csv(\"datos_imagenes.csv\")\n",
    "X = df.drop(\"label\", axis=1).values\n",
    "y = df[\"label\"].values\n",
    "\n",
    "# Contar total de imágenes procesadas\n",
    "print(\"Total de imágenes procesadas:\", len(X))\n",
    "\n",
    "# División de datos\n",
    "X_train_val, X_test, y_train_val, y_test = train_test_split(X, y, test_size=0.2, stratify=y, random_state=42)\n",
    "X_train, X_val, y_train, y_val = train_test_split(X_train_val, y_train_val, test_size=0.25, stratify=y_train_val, random_state=42)\n",
    "\n",
    "print(f\"Entrenamiento: {len(X_train)}\")\n",
    "print(f\"Validación: {len(X_val)}\")\n",
    "print(f\"Prueba: {len(X_test)}\")\n"
   ]
  },
  {
   "cell_type": "markdown",
   "id": "e48e2fe7",
   "metadata": {},
   "source": [
    "\n",
    "## Análisis de Resultados\n",
    "\n",
    "Se presentan los resultados de precisión del modelo en los conjuntos de entrenamiento, validación y prueba. También se muestra la matriz de confusión para analizar en qué clases el modelo se equivoca más.\n",
    "\n",
    "Se observa que el modelo logra un buen desempeño general, aunque puede haber oportunidades de mejora mediante el uso de modelos más complejos como Random Forest o redes neuronales.\n"
   ]
  },
  {
   "cell_type": "code",
   "execution_count": 16,
   "metadata": {},
   "outputs": [
    {
     "data": {
      "image/png": "[encoded data removed]",
      "text/plain": [
       "<Figure size 640x480 with 1 Axes>"
      ]
     },
     "metadata": {},
     "output_type": "display_data"
    },
    {
     "data": {
      "image/png": "[encoded data removed]",
      "text/plain": [
       "<Figure size 640x480 with 1 Axes>"
      ]
     },
     "metadata": {},
     "output_type": "display_data"
    },
    {
     "data": {
      "image/png": "[encoded data removed]",
      "text/plain": [
       "<Figure size 640x480 with 1 Axes>"
      ]
     },
     "metadata": {},
     "output_type": "display_data"
    },
    {
     "name": "stdout",
     "output_type": "stream",
     "text": [
      "Predicción del modelo: 1\n"
     ]
    }
   ],
   "source": [
    "import random\n",
    "import matplotlib.pyplot as plt\n",
    "import numpy as np\n",
    "from PIL import Image\n",
    "from sklearn.metrics import accuracy_score\n",
    "\n",
    "# Ya tienes X_train, X_test, y_train, y_test definidos correctamente con 784 features\n",
    "\n",
    "# Entrenar de nuevo el clasificador con los datos correctos (784 features)\n",
    "from sklearn.tree import DecisionTreeClassifier\n",
    "\n",
    "clf_784 = DecisionTreeClassifier(max_depth=11)\n",
    "clf_784.fit(X_train, y_train)\n",
    "\n",
    "# Predecir\n",
    "y_pred = clf_784.predict(X_test)\n",
    "\n",
    "# Función para mostrar imagen\n",
    "def mostrar_imagen(imagen, etiqueta_real=None, etiqueta_predicha=None, titulo=\"\"):\n",
    "    plt.imshow(imagen.reshape(28, 28), cmap='gray')\n",
    "    plt.axis('off')\n",
    "    if etiqueta_real is not None and etiqueta_predicha is not None:\n",
    "        plt.title(f\"{titulo}\\nReal: {etiqueta_real} - Predicho: {etiqueta_predicha}\")\n",
    "    else:\n",
    "        plt.title(titulo)\n",
    "    plt.show()\n",
    "\n",
    "# Módulo 1: Ejemplo correctamente clasificado\n",
    "correctos = [i for i in range(len(y_test)) if y_test[i] == y_pred[i]]\n",
    "if correctos:\n",
    "    idx_ok = random.choice(correctos)\n",
    "    mostrar_imagen(X_test[idx_ok], y_test[idx_ok], y_pred[idx_ok], \"Ejemplo CORRECTO\")\n",
    "else:\n",
    "    print(\"No hubo predicciones correctas.\")\n",
    "\n",
    "# Módulo 2: Ejemplo incorrecto\n",
    "incorrectos = [i for i in range(len(y_test)) if y_test[i] != y_pred[i]]\n",
    "if incorrectos:\n",
    "    idx_bad = random.choice(incorrectos)\n",
    "    mostrar_imagen(X_test[idx_bad], y_test[idx_bad], y_pred[idx_bad], \"Ejemplo INCORRECTO\")\n",
    "else:\n",
    "    print(\"¡No hubo errores de predicción!\")\n",
    "\n",
    "def mostrar_imagen(imagen, etiqueta_real=None, etiqueta_predicha=None, titulo=\"\"):\n",
    "    # Aseguramos que imagen sea 1D\n",
    "    if imagen.ndim == 2 and imagen.shape[0] == 1:\n",
    "        imagen = imagen.flatten()\n",
    "    plt.imshow(imagen.reshape(28, 28), cmap='gray')\n",
    "    plt.axis('off')\n",
    "    if etiqueta_real is not None and etiqueta_predicha is not None:\n",
    "        plt.title(f\"{titulo}\\nReal: {etiqueta_real} - Predicho: {etiqueta_predicha}\")\n",
    "    elif etiqueta_predicha is not None:\n",
    "        plt.title(f\"{titulo}\\nPredicho: {etiqueta_predicha}\")\n",
    "    else:\n",
    "        plt.title(titulo)\n",
    "    plt.show()\n",
    "\n",
    "def predecir_imagen_personalizada(path_imagen, modelo):\n",
    "    img = Image.open(path_imagen).convert(\"L\")\n",
    "    img = img.resize((28, 28))\n",
    "    img_array = np.array(img).flatten().astype(float)\n",
    "    img_array = img_array.reshape(1, -1)\n",
    "\n",
    "    prediccion = modelo.predict(img_array)[0]\n",
    "    mostrar_imagen(img_array.flatten(), etiqueta_predicha=prediccion, titulo=\"Clasificación personalizada\")\n",
    "    print(f\"Predicción del modelo: {prediccion}\")\n",
    "\n",
    "\n",
    "# Para usar el módulo 3:\n",
    "predecir_imagen_personalizada(\"numero3.png\", clf_784)\n"
   ]
  },
  {
   "cell_type": "markdown",
   "id": "476bda7e",
   "metadata": {},
   "source": [
    "\n",
    "## Conclusiones\n",
    "\n",
    "- El árbol de decisión logra identificar correctamente la mayoría de los dígitos con una precisión final cercana al 90%.\n",
    "- Se observó un leve sobreajuste (alta precisión en entrenamiento, menor en validación).\n",
    "- El modelo puede mejorarse mediante técnicas como el ajuste de hiperparámetros, normalización, o mediante el uso de modelos más complejos como Random Forest.\n",
    "- Un análisis más profundo del conjunto de datos y una mejor ingeniería de características podrían mejorar los resultados futuros.\n"
   ]
  }
 ],
 "metadata": {
  "anaconda-cloud": {},
  "kernelspec": {
   "display_name": "Python 3",
   "language": "python",
   "name": "python3"
  },
  "language_info": {
   "codemirror_mode": {
    "name": "ipython",
    "version": 3
   },
   "file_extension": ".py",
   "mimetype": "text/x-python",
   "name": "python",
   "nbconvert_exporter": "python",
   "pygments_lexer": "ipython3",
   "version": "3.13.0"
  }
 },
 "nbformat": 4,
 "nbformat_minor": 1
}
