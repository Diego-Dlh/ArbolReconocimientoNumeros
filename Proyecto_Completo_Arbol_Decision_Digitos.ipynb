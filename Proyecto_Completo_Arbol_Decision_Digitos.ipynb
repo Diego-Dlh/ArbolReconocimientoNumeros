{
 "cells": [
  {
   "cell_type": "markdown",
   "id": "f7680f51",
   "metadata": {},
   "source": [
    "# Proyecto Reconocimiento de Dígitos con Árbol de Decisión\n",
    "Este notebook contiene un flujo completo para:\n",
    "- Cargar imágenes desde carpetas etiquetadas\n",
    "- Procesar y guardar en CSV optimizado\n",
    "- Cargar datos desde CSV\n",
    "- Visualizar imágenes aleatorias\n",
    "- Dividir datos en entrenamiento, validación y prueba\n",
    "- Optimizar hiperparámetros del árbol de decisión con GridSearchCV\n",
    "- Evaluar resultados\n"
   ]
  },
  {
   "cell_type": "markdown",
   "id": "9b06a9a2",
   "metadata": {},
   "source": [
    "## 1. Carga y procesamiento de imágenes desde carpetas"
   ]
  },
  {
   "cell_type": "code",
   "execution_count": null,
   "id": "10412003",
   "metadata": {},
   "outputs": [],
   "source": [
    "\n",
    "import os\n",
    "import numpy as np\n",
    "from PIL import Image\n",
    "import pandas as pd\n",
    "\n",
    "image_size = (28, 28)\n",
    "data_dir = \"dataset/\"  # Cambiar a la ruta de tus carpetas con imágenes\n",
    "\n",
    "X = []\n",
    "y = []\n",
    "\n",
    "for label in os.listdir(data_dir):\n",
    "    label_path = os.path.join(data_dir, label)\n",
    "    if not os.path.isdir(label_path):\n",
    "        continue\n",
    "    \n",
    "    for filename in os.listdir(label_path):\n",
    "        if filename.endswith(\".png\") or filename.endswith(\".jpg\"):\n",
    "            img_path = os.path.join(label_path, filename)\n",
    "            img = Image.open(img_path).convert(\"L\")\n",
    "            img = img.resize(image_size)\n",
    "            img_array = np.array(img).flatten()\n",
    "            X.append(img_array)\n",
    "            y.append(int(label))\n",
    "\n",
    "X = np.array(X, dtype=np.uint8)\n",
    "y = np.array(y, dtype=np.uint8)\n",
    "\n",
    "# Guardar CSV optimizado\n",
    "df = pd.DataFrame(X)\n",
    "df[\"label\"] = y\n",
    "df.to_csv(\"datos_imagenes.csv\", index=False)\n",
    "print(f\"Datos procesados y guardados. Total imágenes: {len(X)}\")\n"
   ]
  },
  {
   "cell_type": "markdown",
   "id": "f6d76d77",
   "metadata": {},
   "source": [
    "## 2. Cargar datos desde CSV"
   ]
  },
  {
   "cell_type": "code",
   "execution_count": 1,
   "id": "5cbc0243",
   "metadata": {},
   "outputs": [
    {
     "name": "stdout",
     "output_type": "stream",
     "text": [
      "Datos cargados desde CSV. Total imágenes: 21555\n"
     ]
    }
   ],
   "source": [
    "\n",
    "import pandas as pd\n",
    "\n",
    "df = pd.read_csv(\"datos_imagenes.csv\", dtype=\"uint8\")\n",
    "X = df.drop(\"label\", axis=1).values\n",
    "y = df[\"label\"].values\n",
    "print(f\"Datos cargados desde CSV. Total imágenes: {len(X)}\")\n"
   ]
  },
  {
   "cell_type": "markdown",
   "id": "e905c929",
   "metadata": {},
   "source": [
    "## 3. Visualización de imágenes aleatorias"
   ]
  },
  {
   "cell_type": "code",
   "execution_count": 2,
   "id": "bc50ce98",
   "metadata": {},
   "outputs": [
    {
     "data": {
      "image/png": "[encoded data removed]",
      "text/plain": [
       "<Figure size 640x480 with 1 Axes>"
      ]
     },
     "metadata": {},
     "output_type": "display_data"
    }
   ],
   "source": [
    "\n",
    "import matplotlib.pyplot as plt\n",
    "import random\n",
    "\n",
    "idx = random.randint(0, len(X)-1)\n",
    "image = X[idx].reshape(28, 28)\n",
    "label = y[idx]\n",
    "\n",
    "plt.imshow(image, cmap=\"gray\")\n",
    "plt.title(f\"Etiqueta: {label}\")\n",
    "plt.axis(\"off\")\n",
    "plt.show()\n"
   ]
  },
  {
   "cell_type": "markdown",
   "id": "039d9edb",
   "metadata": {},
   "source": [
    "## 4. División de datos en entrenamiento, validación y prueba"
   ]
  },
  {
   "cell_type": "code",
   "execution_count": 3,
   "id": "d927340b",
   "metadata": {},
   "outputs": [
    {
     "name": "stdout",
     "output_type": "stream",
     "text": [
      "Entrenamiento: 12933\n",
      "Validación: 4311\n",
      "Prueba: 4311\n"
     ]
    }
   ],
   "source": [
    "\n",
    "from sklearn.model_selection import train_test_split\n",
    "\n",
    "# División 60% entrenamiento, 20% validación, 20% prueba, estratificada\n",
    "X_train_val, X_test, y_train_val, y_test = train_test_split(\n",
    "    X, y, test_size=0.2, stratify=y, random_state=42\n",
    ")\n",
    "X_train, X_val, y_train, y_val = train_test_split(\n",
    "    X_train_val, y_train_val, test_size=0.25, stratify=y_train_val, random_state=42\n",
    ")\n",
    "\n",
    "print(f\"Entrenamiento: {len(X_train)}\")\n",
    "print(f\"Validación: {len(X_val)}\")\n",
    "print(f\"Prueba: {len(X_test)}\")\n"
   ]
  },
  {
   "cell_type": "markdown",
   "id": "49a6da33",
   "metadata": {},
   "source": [
    "## 5. Optimización del Árbol de Decisión con GridSearchCV"
   ]
  },
  {
   "cell_type": "code",
   "execution_count": 5,
   "id": "3185599f",
   "metadata": {},
   "outputs": [
    {
     "name": "stdout",
     "output_type": "stream",
     "text": [
      "Fitting 3 folds for each of 32 candidates, totalling 96 fits\n",
      "Mejores parámetros: {'criterion': 'entropy', 'max_depth': 15, 'max_features': None, 'min_samples_leaf': 5, 'min_samples_split': 2}\n",
      "Mejor precisión CV: 0.3776\n"
     ]
    }
   ],
   "source": [
    "\n",
    "from sklearn.tree import DecisionTreeClassifier\n",
    "from sklearn.model_selection import GridSearchCV\n",
    "import numpy as np\n",
    "\n",
    "# Para evitar problemas de memoria, usar una muestra del conjunto de entrenamiento\n",
    "sample_size = 5000 if len(X_train) > 5000 else len(X_train)\n",
    "idx_sample = np.random.choice(len(X_train), sample_size, replace=False)\n",
    "X_train_sample = X_train[idx_sample]\n",
    "y_train_sample = y_train[idx_sample]\n",
    "\n",
    "param_grid = {\n",
    "    \"max_depth\": [10, 15],\n",
    "    \"min_samples_split\": [2, 5],\n",
    "    \"min_samples_leaf\": [1, 5],\n",
    "    \"criterion\": [\"gini\", \"entropy\"],\n",
    "    \"max_features\": [None, \"sqrt\"]\n",
    "}\n",
    "\n",
    "clf = DecisionTreeClassifier(random_state=42)\n",
    "grid_search = GridSearchCV(clf, param_grid, cv=3, scoring=\"accuracy\", n_jobs=-1, verbose=2)\n",
    "grid_search.fit(X_train_sample, y_train_sample)\n",
    "\n",
    "print(\"Mejores parámetros:\", grid_search.best_params_)\n",
    "print(f\"Mejor precisión CV: {grid_search.best_score_:.4f}\")\n"
   ]
  },
  {
   "cell_type": "markdown",
   "id": "7d7e446e",
   "metadata": {},
   "source": [
    "## 6. Evaluación final con mejor modelo"
   ]
  },
  {
   "cell_type": "code",
   "execution_count": 6,
   "id": "b1e80058",
   "metadata": {},
   "outputs": [
    {
     "name": "stdout",
     "output_type": "stream",
     "text": [
      "Precisión en validación: 0.3985\n",
      "Precisión en prueba: 0.4029\n",
      "\n",
      "Reporte de clasificación para prueba:\n",
      "              precision    recall  f1-score   support\n",
      "\n",
      "           0       0.59      0.64      0.61       447\n",
      "           1       0.54      0.55      0.55       448\n",
      "           2       0.39      0.41      0.40       447\n",
      "           3       0.33      0.36      0.34       441\n",
      "           4       0.41      0.38      0.39       436\n",
      "           5       0.33      0.33      0.33       425\n",
      "           6       0.41      0.47      0.44       424\n",
      "           7       0.37      0.41      0.39       423\n",
      "           8       0.29      0.21      0.25       417\n",
      "           9       0.29      0.24      0.26       403\n",
      "\n",
      "    accuracy                           0.40      4311\n",
      "   macro avg       0.40      0.40      0.40      4311\n",
      "weighted avg       0.40      0.40      0.40      4311\n",
      "\n"
     ]
    }
   ],
   "source": [
    "\n",
    "from sklearn.metrics import accuracy_score, classification_report\n",
    "\n",
    "best_model = grid_search.best_estimator_\n",
    "\n",
    "# Evaluar en conjunto de validación\n",
    "y_val_pred = best_model.predict(X_val)\n",
    "val_acc = accuracy_score(y_val, y_val_pred)\n",
    "print(f\"Precisión en validación: {val_acc:.4f}\")\n",
    "\n",
    "# Evaluar en conjunto de prueba\n",
    "y_test_pred = best_model.predict(X_test)\n",
    "test_acc = accuracy_score(y_test, y_test_pred)\n",
    "print(f\"Precisión en prueba: {test_acc:.4f}\")\n",
    "\n",
    "print(\"\\nReporte de clasificación para prueba:\")\n",
    "print(classification_report(y_test, y_test_pred))\n"
   ]
  },
  {
   "cell_type": "code",
   "execution_count": 11,
   "id": "53e4c10c",
   "metadata": {},
   "outputs": [
    {
     "data": {
      "image/png": "[encoded data removed]",
      "text/plain": [
       "<Figure size 640x480 with 1 Axes>"
      ]
     },
     "metadata": {},
     "output_type": "display_data"
    },
    {
     "data": {
      "image/png": "[encoded data removed]",
      "text/plain": [
       "<Figure size 640x480 with 1 Axes>"
      ]
     },
     "metadata": {},
     "output_type": "display_data"
    },
    {
     "data": {
      "image/png": "[encoded data removed]",
      "text/plain": [
       "<Figure size 640x480 with 1 Axes>"
      ]
     },
     "metadata": {},
     "output_type": "display_data"
    }
   ],
   "source": [
    "import matplotlib.pyplot as plt\n",
    "import numpy as np\n",
    "from PIL import Image\n",
    "\n",
    "# Función para mostrar imagen con título\n",
    "def mostrar_imagen(img_array, titulo):\n",
    "    plt.imshow(img_array.reshape(28, 28), cmap='gray')\n",
    "    plt.title(titulo)\n",
    "    plt.axis('off')\n",
    "    plt.show()\n",
    "\n",
    "# 1. Imagen correctamente clasificada\n",
    "y_pred = best_model.predict(X_test)\n",
    "\n",
    "# Buscar índices de aciertos y errores\n",
    "indices_correctos = np.where(y_pred == y_test)[0]\n",
    "indices_incorrectos = np.where(y_pred != y_test)[0]\n",
    "\n",
    "# Mostrar una imagen correcta aleatoria\n",
    "idx_correcto = np.random.choice(indices_correctos)\n",
    "mostrar_imagen(X_test[idx_correcto], f\"Correcto - Etiqueta real: {y_test[idx_correcto]}\")\n",
    "\n",
    "# 2. Mostrar una imagen incorrecta aleatoria\n",
    "idx_incorrecto = np.random.choice(indices_incorrectos)\n",
    "mostrar_imagen(\n",
    "    X_test[idx_incorrecto],\n",
    "    f\"Incorrecto - Real: {y_test[idx_incorrecto]}, Predicho: {y_pred[idx_incorrecto]}\"\n",
    ")\n",
    "\n",
    "# 3. Cargar imagen personalizada y predecir\n",
    "ruta_imagen_personal = \"mi_imagen.png\"  # Cambia esta ruta a la de tu imagen\n",
    "\n",
    "# Cargar, convertir a escala de grises, redimensionar y a vector\n",
    "img_personal = Image.open(\"numero.png\").convert('L')\n",
    "img_personal = img_personal.resize((28, 28))\n",
    "img_personal_array = np.array(img_personal).flatten().reshape(1, -1)\n",
    "\n",
    "# Predecir con el modelo\n",
    "prediccion_personal = best_model.predict(img_personal_array)[0]\n",
    "mostrar_imagen(img_personal_array, f\"Imagen personalizada - Predicción: {prediccion_personal}\")\n"
   ]
  }
 ],
 "metadata": {
  "kernelspec": {
   "display_name": "Python 3",
   "language": "python",
   "name": "python3"
  },
  "language_info": {
   "codemirror_mode": {
    "name": "ipython",
    "version": 3
   },
   "file_extension": ".py",
   "mimetype": "text/x-python",
   "name": "python",
   "nbconvert_exporter": "python",
   "pygments_lexer": "ipython3",
   "version": "3.13.0"
  }
 },
 "nbformat": 4,
 "nbformat_minor": 5
}
